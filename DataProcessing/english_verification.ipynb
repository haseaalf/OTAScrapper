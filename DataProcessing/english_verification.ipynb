{
 "cells": [
  {
   "cell_type": "code",
   "execution_count": null,
   "metadata": {},
   "outputs": [],
   "source": [
    "import datetime\n",
    "import mysql.connector\n",
    "import config\n",
    "\n",
    "\n",
    "def init_db():\n",
    "    return mysql.connector.connect(\n",
    "            host = config.configSQLCrawler.HOST,\n",
    "            user = config.configSQLCrawler.USER,\n",
    "            passwd = config.configSQLCrawler.PASSWD,\n",
    "            database = config.configSQLCrawler.DATABASE,\n",
    "            port = config.configSQLCrawler.PORT,\n",
    "            auth_plugin=config.configSQLCrawler.AUTH_PLUGIN\n",
    "        )\n",
    "\n",
    "def get_cursor(con):\n",
    "    try:\n",
    "        con.ping(reconnect=True, attempts=3, delay=5)\n",
    "    except mysql.connector.Error as e:\n",
    "        raise Exception('db error')\n",
    "    return con.cursor(buffered=True)\n",
    "\n",
    "db = init_db()\n",
    "cursor = get_cursor(db)"
   ]
  }
 ],
 "metadata": {
  "language_info": {
   "name": "python"
  },
  "orig_nbformat": 4
 },
 "nbformat": 4,
 "nbformat_minor": 2
}
