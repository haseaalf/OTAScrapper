{
 "cells": [
  {
   "cell_type": "code",
   "execution_count": 16,
   "metadata": {},
   "outputs": [
    {
     "name": "stdout",
     "output_type": "stream",
     "text": [
      "41736\n",
      "216101\n"
     ]
    }
   ],
   "source": [
    "# get list of sentence\n",
    "\n",
    "from nltk.tokenize import sent_tokenize\n",
    "import pandas as pd\n",
    "import mysql.connector\n",
    "import config\n",
    "\n",
    "\n",
    "def init_db():\n",
    "    return mysql.connector.connect(\n",
    "            host = config.configSQLCrawler.HOST,\n",
    "            user = config.configSQLCrawler.USER,\n",
    "            passwd = config.configSQLCrawler.PASSWD,\n",
    "            database = config.configSQLCrawler.DATABASE,\n",
    "            port = config.configSQLCrawler.PORT,\n",
    "            auth_plugin=config.configSQLCrawler.AUTH_PLUGIN\n",
    "        )\n",
    "\n",
    "def get_cursor(con):\n",
    "    try:\n",
    "        con.ping(reconnect=True, attempts=3, delay=5)\n",
    "    except mysql.connector.Error as e:\n",
    "        raise Exception('db error')\n",
    "    return con.cursor(buffered=True)\n",
    "\n",
    "db = init_db()\n",
    "cursor = get_cursor(db)\n",
    "\n",
    "query = \"\"\"\n",
    "SELECT text\n",
    "FROM hotel_review_filtered\n",
    "WHERE lang=%s\n",
    "\"\"\"\n",
    "args = ('en',)\n",
    "\n",
    "cursor.execute(query, args)\n",
    "ori_data = cursor.fetchall()\n",
    "print(len(ori_data))\n",
    "\n",
    "processed_sentences = list()\n",
    "for data in ori_data:\n",
    "    list_of_sentence = sent_tokenize(data[0])\n",
    "    for sentence in list_of_sentence:\n",
    "        num_of_words = len([word for word in sentence.split()])\n",
    "        if num_of_words > 2:\n",
    "            processed_sentences.append(sentence)\n",
    "\n",
    "df = pd.DataFrame(processed_sentences, columns=['text'])\n",
    "print(len(df))\n",
    "df.to_csv('./ensentence.csv')\n",
    "    \n",
    "        "
   ]
  }
 ],
 "metadata": {
  "kernelspec": {
   "display_name": ".venv",
   "language": "python",
   "name": "python3"
  },
  "language_info": {
   "codemirror_mode": {
    "name": "ipython",
    "version": 3
   },
   "file_extension": ".py",
   "mimetype": "text/x-python",
   "name": "python",
   "nbconvert_exporter": "python",
   "pygments_lexer": "ipython3",
   "version": "3.8.10"
  },
  "orig_nbformat": 4
 },
 "nbformat": 4,
 "nbformat_minor": 2
}
