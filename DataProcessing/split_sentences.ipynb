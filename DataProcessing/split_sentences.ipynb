{
 "cells": [
  {
   "cell_type": "code",
   "execution_count": 1,
   "metadata": {},
   "outputs": [],
   "source": [
    "import datetime\n",
    "import mysql.connector\n",
    "import config\n",
    "\n",
    "\n",
    "def init_db():\n",
    "    return mysql.connector.connect(\n",
    "            host = config.configSQLCrawler.HOST,\n",
    "            user = config.configSQLCrawler.USER,\n",
    "            passwd = config.configSQLCrawler.PASSWD,\n",
    "            database = config.configSQLCrawler.DATABASE,\n",
    "            port = config.configSQLCrawler.PORT,\n",
    "            auth_plugin=config.configSQLCrawler.AUTH_PLUGIN\n",
    "        )\n",
    "\n",
    "def get_cursor(con):\n",
    "    try:\n",
    "        con.ping(reconnect=True, attempts=3, delay=5)\n",
    "    except mysql.connector.Error as e:\n",
    "        raise Exception('db error')\n",
    "    return con.cursor(buffered=True)\n",
    "\n",
    "db = init_db()\n",
    "cursor = get_cursor(db)"
   ]
  },
  {
   "cell_type": "code",
   "execution_count": 2,
   "metadata": {},
   "outputs": [
    {
     "name": "stdout",
     "output_type": "stream",
     "text": [
      "Sentences:   248809 | Elapsed:   100350/100350248809\n"
     ]
    }
   ],
   "source": [
    "from nltk.tokenize import sent_tokenize\n",
    "import demoji\n",
    "import unicodedata as uni\n",
    "import pandas as pd\n",
    "\n",
    "def handle_emoji(text):\n",
    "    emoji_less_text = demoji.replace(text, \"\")\n",
    "\n",
    "    return emoji_less_text\n",
    "\n",
    "def handle_unicode(text):\n",
    "    text = uni.normalize('NFKD', text)\n",
    "\n",
    "    return text\n",
    "\n",
    "def case_folding(text):\n",
    "    return text.lower()\n",
    "\n",
    "def escape_char_clean(text):\n",
    "    return text.replace('\\n', ' ')\n",
    "\n",
    "sql_query = \"\"\"\n",
    "SELECT text\n",
    "FROM hotel_review_filtered\n",
    "WHERE lang=%s\n",
    "\"\"\"\n",
    "sql_args = ('in',)\n",
    "\n",
    "cursor.execute(sql_query, sql_args)\n",
    "ori_data = cursor.fetchall()\n",
    "\n",
    "num_of_ori = len(ori_data)\n",
    "\n",
    "elapsed = 0\n",
    "num_of_sentence = 0\n",
    "processed_sentences = list()\n",
    "for data in ori_data:\n",
    "    list_of_sentence = sent_tokenize(data[0])\n",
    "    for sentence in list_of_sentence:\n",
    "        num_of_words = len([word for word in sentence.split()])\n",
    "        if num_of_words > 2:\n",
    "            sentence = handle_emoji(sentence)\n",
    "            sentence = handle_unicode(sentence)\n",
    "            sentence = case_folding(sentence)\n",
    "            sentence = escape_char_clean(sentence)\n",
    "            processed_sentences.append(sentence)\n",
    "            num_of_sentence += 1\n",
    "    elapsed += 1\n",
    "    print(f'\\rSentences: {num_of_sentence:8} | Elapsed: {elapsed:8}/{num_of_ori}', end='')\n",
    "\n",
    "df = pd.DataFrame(processed_sentences, columns=['text'])\n",
    "print(len(df))\n",
    "df.to_csv(f'./data/allsentence/{sql_args[0]}_allsentence.csv', index=False, header=False)"
   ]
  },
  {
   "cell_type": "code",
   "execution_count": 18,
   "metadata": {},
   "outputs": [],
   "source": [
    "sql_args = ('in',)"
   ]
  },
  {
   "cell_type": "code",
   "execution_count": 19,
   "metadata": {},
   "outputs": [],
   "source": [
    "# create csv dataset for training (250 each)\n",
    "import pandas as pd\n",
    "import random\n",
    "\n",
    "df = pd.read_csv(r'C:\\Users\\MSI-GAMMING\\Documents\\COOLYEAH\\.skripsi\\Code\\DataProcessing\\data\\allsentence\\in_allsentence.csv',\n",
    "                 header=None)\n",
    "all_sentence = df[0].values.tolist()\n",
    "\n",
    "size = len(all_sentence)\n",
    "cut = int(0.05*size)\n",
    "shuffled_data = all_sentence.copy()\n",
    "random.shuffle(shuffled_data)\n",
    "\n",
    "for_model = shuffled_data[:cut]\n",
    "leftover = shuffled_data[cut:]\n",
    "\n",
    "pd.DataFrame(leftover).to_csv(f'.\\\\data\\\\leftover\\\\{sql_args[0]}_leftoversentence.csv', index=False, header=False)\n",
    "\n",
    "split_size = 250\n",
    "doc_num = 0\n",
    "_ = 0\n",
    "batch_list = list()\n",
    "for sentence in for_model:\n",
    "    batch_list.append(sentence)\n",
    "    _ += 1\n",
    "    if _ == split_size:\n",
    "        pd.DataFrame(batch_list).to_csv(f'.\\\\data\\\\formodel\\\\{sql_args[0]}_formodel_{doc_num}_{len(batch_list)}.csv', index=False, header=False)\n",
    "        batch_list = list()\n",
    "        _ = 0\n",
    "        doc_num += 1\n",
    "pd.DataFrame(batch_list).to_csv(f'.\\\\data\\\\formodel\\\\{sql_args[0]}_formodel_{doc_num}_{len(batch_list)}.csv', index=False, header=False)\n"
   ]
  },
  {
   "cell_type": "code",
   "execution_count": 12,
   "metadata": {},
   "outputs": [
    {
     "name": "stdout",
     "output_type": "stream",
     "text": [
      "None\n"
     ]
    }
   ],
   "source": [
    "print(shuffled_data)"
   ]
  }
 ],
 "metadata": {
  "kernelspec": {
   "display_name": ".venv",
   "language": "python",
   "name": "python3"
  },
  "language_info": {
   "codemirror_mode": {
    "name": "ipython",
    "version": 3
   },
   "file_extension": ".py",
   "mimetype": "text/x-python",
   "name": "python",
   "nbconvert_exporter": "python",
   "pygments_lexer": "ipython3",
   "version": "3.8.10"
  },
  "orig_nbformat": 4
 },
 "nbformat": 4,
 "nbformat_minor": 2
}
