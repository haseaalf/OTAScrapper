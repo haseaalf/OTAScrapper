{
 "cells": [
  {
   "attachments": {},
   "cell_type": "markdown",
   "metadata": {},
   "source": [
    "# Transform Datetime"
   ]
  },
  {
   "cell_type": "code",
   "execution_count": 7,
   "metadata": {},
   "outputs": [
    {
     "name": "stdout",
     "output_type": "stream",
     "text": [
      "Process Elapsed: 597643/598699"
     ]
    }
   ],
   "source": [
    "import datetime\n",
    "import mysql.connector\n",
    "import config\n",
    "\n",
    "\n",
    "def init_db():\n",
    "    return mysql.connector.connect(\n",
    "            host = config.configSQLCrawler.HOST,\n",
    "            user = config.configSQLCrawler.USER,\n",
    "            passwd = config.configSQLCrawler.PASSWD,\n",
    "            database = config.configSQLCrawler.DATABASE,\n",
    "            port = config.configSQLCrawler.PORT,\n",
    "            auth_plugin=config.configSQLCrawler.AUTH_PLUGIN\n",
    "        )\n",
    "\n",
    "def get_cursor(con):\n",
    "    try:\n",
    "        con.ping(reconnect=True, attempts=3, delay=5)\n",
    "    except mysql.connector.Error as e:\n",
    "        raise Exception('db error')\n",
    "    return con.cursor(buffered=True)\n",
    "\n",
    "db = init_db()\n",
    "cursor = get_cursor(db)\n",
    "\n",
    "cursor.execute(\"SELECT id, travel_date FROM hotel_review\")\n",
    "temp_data = cursor.fetchall()\n",
    "num_of_row = len(temp_data)\n",
    "\n",
    "process_elapsed = 0\n",
    "for row in temp_data:\n",
    "    if row[1] is not None:\n",
    "        temp_date = str(row[1]) + '-01'\n",
    "        query = f'UPDATE hotel_review SET transformed_travel_date=\"{temp_date}\" WHERE id={row[0]}'\n",
    "        try:\n",
    "            cursor.execute(query)\n",
    "            db.commit()\n",
    "            process_elapsed +=1\n",
    "            print(f\"\\rProcess Elapsed: {process_elapsed:<6}/{num_of_row}\", end='')\n",
    "        except Exception as e:\n",
    "            print(e)\n",
    "            print(query)\n",
    "            print(row)\n",
    "            break\n",
    "    else:\n",
    "        continue\n",
    "\n"
   ]
  },
  {
   "cell_type": "code",
   "execution_count": 12,
   "metadata": {},
   "outputs": [
    {
     "name": "stdout",
     "output_type": "stream",
     "text": [
      "Process Elapsed: 144783/144783"
     ]
    }
   ],
   "source": [
    "from datetime import datetime\n",
    "import mysql.connector\n",
    "import config\n",
    "\n",
    "\n",
    "def init_db():\n",
    "    return mysql.connector.connect(\n",
    "            host = config.configSQLCrawler.HOST,\n",
    "            user = config.configSQLCrawler.USER,\n",
    "            passwd = config.configSQLCrawler.PASSWD,\n",
    "            database = config.configSQLCrawler.DATABASE,\n",
    "            port = config.configSQLCrawler.PORT,\n",
    "            auth_plugin=config.configSQLCrawler.AUTH_PLUGIN\n",
    "        )\n",
    "\n",
    "def get_cursor(con):\n",
    "    try:\n",
    "        con.ping(reconnect=True, attempts=3, delay=5)\n",
    "    except mysql.connector.Error as e:\n",
    "        raise Exception('db error')\n",
    "    return con.cursor(buffered=True)\n",
    "\n",
    "db = init_db()\n",
    "cursor = get_cursor(db)\n",
    "\n",
    "columns = ['id','hotel_id','review_id','lang','published_date','travel_date','type','rating','helpful_votes','title','text','username','machine_translated','machine_translatable','transformed_travel_date']\n",
    "columns_string = ', '.join(columns)\n",
    "\n",
    "columns_final = ['id','hotel_id','review_id','lang','published_date','type','rating','helpful_votes','title','text','username','machine_translated','machine_translatable','travel_date']\n",
    "columns_final_string = ', '.join(columns_final)\n",
    "cursor.execute(f'SELECT {columns_string} FROM hotel_review WHERE YEAR(transformed_travel_date)>=2022')\n",
    "initial_data = cursor.fetchall()\n",
    "num_of_row = len(initial_data)\n",
    "\n",
    "process_elapsed = 0\n",
    "for row in initial_data:\n",
    "    temp_list= list(row)\n",
    "    temp_list.remove(row[5])\n",
    "    values = tuple(temp_list)\n",
    "    placeholders = ', '.join(['%s']*len(columns_final))\n",
    "    sql = f'INSERT INTO hotel_review_filtered ({columns_final_string}) VALUES ({placeholders})'\n",
    "    cursor.execute(sql, values)\n",
    "    db.commit()\n",
    "    process_elapsed += 1\n",
    "    print(f\"\\rProcess Elapsed: {process_elapsed:<6}/{num_of_row}\", end='')"
   ]
  },
  {
   "cell_type": "code",
   "execution_count": 14,
   "metadata": {},
   "outputs": [
    {
     "name": "stdout",
     "output_type": "stream",
     "text": [
      "452860\n"
     ]
    }
   ],
   "source": [
    "from datetime import datetime\n",
    "import mysql.connector\n",
    "import config\n",
    "\n",
    "\n",
    "def init_db():\n",
    "    return mysql.connector.connect(\n",
    "            host = config.configSQLCrawler.HOST,\n",
    "            user = config.configSQLCrawler.USER,\n",
    "            passwd = config.configSQLCrawler.PASSWD,\n",
    "            database = config.configSQLCrawler.DATABASE,\n",
    "            port = config.configSQLCrawler.PORT,\n",
    "            auth_plugin=config.configSQLCrawler.AUTH_PLUGIN\n",
    "        )\n",
    "\n",
    "def get_cursor(con):\n",
    "    try:\n",
    "        con.ping(reconnect=True, attempts=3, delay=5)\n",
    "    except mysql.connector.Error as e:\n",
    "        raise Exception('db error')\n",
    "    return con.cursor(buffered=True)\n",
    "\n",
    "db = init_db()\n",
    "cursor = get_cursor(db)\n",
    "\n",
    "columns = ['id','hotel_id','review_id','lang','published_date','travel_date','type','rating','helpful_votes','title','text','username','machine_translated','machine_translatable','transformed_travel_date']\n",
    "columns_string = ', '.join(columns)\n",
    "\n",
    "columns_final = ['id','hotel_id','review_id','lang','published_date','type','rating','helpful_votes','title','text','username','machine_translated','machine_translatable','travel_date']\n",
    "columns_final_string = ', '.join(columns_final)\n",
    "cursor.execute(f'SELECT {columns_string} FROM hotel_review WHERE YEAR(transformed_travel_date)<2022')\n",
    "initial_data = cursor.fetchall()\n",
    "num_of_row = len(initial_data)\n",
    "print(num_of_row)"
   ]
  },
  {
   "cell_type": "code",
   "execution_count": 1,
   "metadata": {},
   "outputs": [
    {
     "ename": "ModuleNotFoundError",
     "evalue": "No module named 'googletrans'",
     "output_type": "error",
     "traceback": [
      "\u001b[1;31m---------------------------------------------------------------------------\u001b[0m",
      "\u001b[1;31mModuleNotFoundError\u001b[0m                       Traceback (most recent call last)",
      "Cell \u001b[1;32mIn[1], line 1\u001b[0m\n\u001b[1;32m----> 1\u001b[0m \u001b[39mfrom\u001b[39;00m \u001b[39mgoogletrans\u001b[39;00m \u001b[39mimport\u001b[39;00m Translator\n\u001b[0;32m      3\u001b[0m translator \u001b[39m=\u001b[39m Translator()\n\u001b[0;32m      4\u001b[0m translator\u001b[39m.\u001b[39mtranslate(\u001b[39m'\u001b[39m\u001b[39mveritas lux mea\u001b[39m\u001b[39m'\u001b[39m, dest\u001b[39m=\u001b[39m\u001b[39m'\u001b[39m\u001b[39men\u001b[39m\u001b[39m'\u001b[39m,src\u001b[39m=\u001b[39m\u001b[39m'\u001b[39m\u001b[39mla\u001b[39m\u001b[39m'\u001b[39m)\n",
      "\u001b[1;31mModuleNotFoundError\u001b[0m: No module named 'googletrans'"
     ]
    }
   ],
   "source": [
    "from googletrans import Translator\n",
    "\n",
    "translator = Translator()\n",
    "translator.translate('veritas lux mea', dest='en',src='la')"
   ]
  }
 ],
 "metadata": {
  "kernelspec": {
   "display_name": "Python 3",
   "language": "python",
   "name": "python3"
  },
  "language_info": {
   "codemirror_mode": {
    "name": "ipython",
    "version": 3
   },
   "file_extension": ".py",
   "mimetype": "text/x-python",
   "name": "python",
   "nbconvert_exporter": "python",
   "pygments_lexer": "ipython3",
   "version": "3.8.10"
  },
  "orig_nbformat": 4
 },
 "nbformat": 4,
 "nbformat_minor": 2
}
