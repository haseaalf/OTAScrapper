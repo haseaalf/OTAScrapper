{
 "cells": [
  {
   "cell_type": "code",
   "execution_count": null,
   "metadata": {},
   "outputs": [],
   "source": [
    "from tripadvisor import Tripadvisor\n",
    "\n",
    "hotel_id = \"23770286\"\n",
    "\n",
    "tripadvisor = Tripadvisor()\n",
    "# hotels = tripadvisor.get_hotels()\n",
    "hotel = tripadvisor.hotel_detail(hotel_id)"
   ]
  },
  {
   "cell_type": "code",
   "execution_count": null,
   "metadata": {},
   "outputs": [],
   "source": [
    "import json\n",
    "\n",
    "print(json.dumps(hotel, indent=4))"
   ]
  },
  {
   "cell_type": "code",
   "execution_count": null,
   "metadata": {},
   "outputs": [],
   "source": [
    "from tripadvisor import Tripadvisor\n",
    "\n",
    "hotel_id = \"20226478\"\n",
    "\n",
    "tripadvisor = Tripadvisor()\n",
    "review = tripadvisor.hotel_review(hotel_id, 0)"
   ]
  },
  {
   "cell_type": "code",
   "execution_count": null,
   "metadata": {},
   "outputs": [],
   "source": [
    "import json\n",
    "\n",
    "print(json.dumps(review['data'][6], indent=7))\n",
    "# print(len(review['data']))"
   ]
  },
  {
   "cell_type": "code",
   "execution_count": null,
   "metadata": {},
   "outputs": [],
   "source": [
    "import json\n",
    "\n",
    "beneran_review = [data for data in review['data'] if 'ad_context' not in data]\n",
    "len(beneran_review)"
   ]
  },
  {
   "cell_type": "code",
   "execution_count": null,
   "metadata": {},
   "outputs": [],
   "source": [
    "review2 = tripadvisor.hotel_review(hotel_id, 20)"
   ]
  },
  {
   "cell_type": "code",
   "execution_count": null,
   "metadata": {},
   "outputs": [],
   "source": [
    "print(json.dumps(review2['data'][0], indent=7))"
   ]
  },
  {
   "cell_type": "code",
   "execution_count": 33,
   "metadata": {},
   "outputs": [
    {
     "name": "stdout",
     "output_type": "stream",
     "text": [
      "254\n"
     ]
    }
   ],
   "source": [
    "from tripadvisor import Tripadvisor\n",
    "import mysql.connector\n",
    "import time\n",
    "import config\n",
    "import os\n",
    "import json\n",
    "\n",
    "hotel_data_dir = './hotel_data'\n",
    "\n",
    "# initiate mysql\n",
    "db = init_db()\n",
    "cursor = get_cursor(db)\n",
    "\n",
    "# select all hotel list that have not been parsed\n",
    "hotel_list = db_select(db, \"SELECT * FROM hotel_list WHERE hotel_detail_parsed=0 LIMIT 254\")\n",
    "\n",
    "# instantiate TripAdvisor object\n",
    "tripadvisor = Tripadvisor()\n",
    "\n",
    "# iterate per hotel to get hotel detail then change hotel_detail_parsed to True\n",
    "for hotel in hotel_list:\n",
    "    hotel_id, hotel_link, hotel_detail_parsed, hotel_review_parsed = hotel\n",
    "\n",
    "    # create hotel dir if not exist\n",
    "    hotel_id_dir = os.path.join(hotel_data_dir, hotel_id)\n",
    "    if not os.path.exists(hotel_id_dir):\n",
    "        os.makedirs(hotel_id_dir)\n",
    "\n",
    "    # get hotel detail from tripadvisor api\n",
    "    hotel_detail = tripadvisor.hotel_detail(hotel_id)\n",
    "\n",
    "    # store hotel_detail data to database and local file\n",
    "    if 'errors' in hotel_detail.keys():\n",
    "            print(f'can\\'t parse hotel with id {hotel[\"hotel_id\"]}')\n",
    "    else:\n",
    "        #store and update database\n",
    "        cursor.execute(\n",
    "            'INSERT IGNORE INTO hotel_detail (hotel_id, hotel_detail) VALUES (%s, %s)',\n",
    "            (hotel_id, json.dumps(hotel_detail))\n",
    "        )\n",
    "        cursor.execute(\n",
    "            f'UPDATE hotel_list SET hotel_detail_parsed=1 WHERE hotel_id=\"{hotel_id}\"'\n",
    "        )\n",
    "        db.commit()\n",
    "\n",
    "        #store to local file\n",
    "        hotel_detail_path = os.path.join(hotel_id_dir, f'{hotel_id}_hotel_detail.json') # hotel_detail local file path\n",
    "        with open(hotel_detail_path, 'w') as json_file:\n",
    "            json.dump(hotel_detail, json_file, indent=7)\n",
    "    time.sleep(5)\n",
    "    \n",
    "    \n",
    "def init_db():\n",
    "    return mysql.connector.connect(\n",
    "            host = config.configSQLCrawler.HOST,\n",
    "            user = config.configSQLCrawler.USER,\n",
    "            passwd = config.configSQLCrawler.PASSWD,\n",
    "            database = config.configSQLCrawler.DATABASE,\n",
    "            port = config.configSQLCrawler.PORT,\n",
    "            auth_plugin=config.configSQLCrawler.AUTH_PLUGIN\n",
    "        )\n",
    "\n",
    "def get_cursor(con):\n",
    "    try:\n",
    "        con.ping(reconnect=True, attempts=3, delay=5)\n",
    "    except mysql.connector.Error as e:\n",
    "        raise Exception('db error')\n",
    "    return con.cursor(buffered=True)\n",
    "\n",
    "def db_select(con, query):\n",
    "    try:\n",
    "        cursor = get_cursor(con)\n",
    "        cursor.execute(query)\n",
    "        result = cursor.fetchall()\n",
    "        return result\n",
    "    except Exception as e:\n",
    "        print(e)\n",
    "    finally:\n",
    "        cursor.close()\n",
    "\n"
   ]
  },
  {
   "attachments": {},
   "cell_type": "markdown",
   "metadata": {},
   "source": [
    "# ALTER JSON FILE AND UPLOAD TO MYSQL SERVER (ARCHIVED)"
   ]
  },
  {
   "cell_type": "code",
   "execution_count": 27,
   "metadata": {},
   "outputs": [],
   "source": [
    "import mysql.connector\n",
    "import config\n",
    "import json\n",
    "\n",
    "\n",
    "\n",
    "destination_path = './hotel_data/hotel_list.json'\n",
    "\n",
    "db = init_db()\n",
    "cursor = get_cursor(db)\n",
    "\n",
    "temp_list = list()\n",
    "with open('hotel_list.json') as json_file:\n",
    "    json_data = json.load(json_file)\n",
    "    \n",
    "    for hotel in json_data:\n",
    "        cursor.execute(\n",
    "            \"INSERT IGNORE INTO hotel_list (hotel_id, hotel_link, hotel_detail_parsed, hotel_review_parsed) VALUES (%s, %s, %s, %s);\",\n",
    "            (hotel['hotel_id'], hotel['link'], False, False )\n",
    "            )\n",
    "        db.commit()\n",
    "\n",
    "def init_db():\n",
    "    return mysql.connector.connect(\n",
    "            host = config.configSQLCrawler.HOST,\n",
    "            user = config.configSQLCrawler.USER,\n",
    "            passwd = config.configSQLCrawler.PASSWD,\n",
    "            database = config.configSQLCrawler.DATABASE,\n",
    "            port = config.configSQLCrawler.PORT,\n",
    "            auth_plugin=config.configSQLCrawler.AUTH_PLUGIN\n",
    "        )\n",
    "\n",
    "def get_cursor(con):\n",
    "    try:\n",
    "        con.ping(reconnect=True, attempts=3, delay=5)\n",
    "    except mysql.connector.Error as e:\n",
    "        raise Exception('db error')\n",
    "    return con.cursor(buffered=True)\n",
    "\n",
    "def db_select(con, query):\n",
    "    try:\n",
    "        cursor = get_cursor(con)\n",
    "        cursor.execute(query)\n",
    "        result = cursor.fetchall()\n",
    "        return result\n",
    "    except Exception as e:\n",
    "        print(e)\n",
    "    finally:\n",
    "        cursor.close()\n",
    "\n"
   ]
  },
  {
   "cell_type": "code",
   "execution_count": null,
   "metadata": {},
   "outputs": [],
   "source": []
  },
  {
   "cell_type": "code",
   "execution_count": 24,
   "metadata": {},
   "outputs": [],
   "source": []
  }
 ],
 "metadata": {
  "kernelspec": {
   "display_name": ".venv",
   "language": "python",
   "name": "python3"
  },
  "language_info": {
   "codemirror_mode": {
    "name": "ipython",
    "version": 3
   },
   "file_extension": ".py",
   "mimetype": "text/x-python",
   "name": "python",
   "nbconvert_exporter": "python",
   "pygments_lexer": "ipython3",
   "version": "3.8.10"
  },
  "orig_nbformat": 4
 },
 "nbformat": 4,
 "nbformat_minor": 2
}
